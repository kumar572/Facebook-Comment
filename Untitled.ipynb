{
 "cells": [
  {
   "cell_type": "code",
   "execution_count": 1,
   "metadata": {},
   "outputs": [],
   "source": [
    "import numpy as np\n",
    "import pandas as pd\n",
    "import matplotlib.pyplot as plt\n",
    "import seaborn as sns\n"
   ]
  },
  {
   "cell_type": "markdown",
   "metadata": {},
   "source": [
    "### About Dataset\n",
    "#### Facebook Comment Dataset"
   ]
  },
  {
   "cell_type": "markdown",
   "metadata": {},
   "source": [
    "#### dataset_url: https://archive.ics.uci.edu/ml/datasets/Facebook+Comment+Volume+Dataset"
   ]
  },
  {
   "cell_type": "markdown",
   "metadata": {},
   "source": [
    "#### \n",
    "    Dataset did not contain any column name so i'm going to assign column name from x1 to x54 because there are 54 columns in dataset. When i will start exploring each column then i will describe the column."
   ]
  },
  {
   "cell_type": "code",
   "execution_count": 22,
   "metadata": {},
   "outputs": [],
   "source": [
    "column=['x1', 'x2','x3','x4','x5','x6', 'x7','x8','x9','x10','x11','x12','x13','x14','x15','x16','x17','x18',\n",
    "        'x19','x20','x21','x22','x23','x24','x25','x26','x27','x28','x29','x30','x31','x32','x33','x34','x35',\n",
    "       'x36','x37','x38','x39','x40','x41','x42','x43','x44','x45','x46','x47','x48','x49','x50','x51','x52',\n",
    "       'x53','x54']"
   ]
  },
  {
   "cell_type": "code",
   "execution_count": 23,
   "metadata": {},
   "outputs": [
    {
     "data": {
      "text/plain": [
       "(40949, 54)"
      ]
     },
     "execution_count": 23,
     "metadata": {},
     "output_type": "execute_result"
    }
   ],
   "source": [
    "# Loading the Dataset in pandas DataFrame\n",
    "dataframe=pd.read_csv('Features_Variant_1.csv', names= column)\n",
    "# Check shape of Dataset\n",
    "dataframe.shape"
   ]
  },
  {
   "cell_type": "code",
   "execution_count": 26,
   "metadata": {},
   "outputs": [
    {
     "data": {
      "text/html": [
       "<div>\n",
       "<style scoped>\n",
       "    .dataframe tbody tr th:only-of-type {\n",
       "        vertical-align: middle;\n",
       "    }\n",
       "\n",
       "    .dataframe tbody tr th {\n",
       "        vertical-align: top;\n",
       "    }\n",
       "\n",
       "    .dataframe thead th {\n",
       "        text-align: right;\n",
       "    }\n",
       "</style>\n",
       "<table border=\"1\" class=\"dataframe\">\n",
       "  <thead>\n",
       "    <tr style=\"text-align: right;\">\n",
       "      <th></th>\n",
       "      <th>x1</th>\n",
       "      <th>x2</th>\n",
       "      <th>x3</th>\n",
       "      <th>x4</th>\n",
       "      <th>x5</th>\n",
       "      <th>x6</th>\n",
       "      <th>x7</th>\n",
       "      <th>x8</th>\n",
       "      <th>x9</th>\n",
       "      <th>x10</th>\n",
       "      <th>...</th>\n",
       "      <th>x45</th>\n",
       "      <th>x46</th>\n",
       "      <th>x47</th>\n",
       "      <th>x48</th>\n",
       "      <th>x49</th>\n",
       "      <th>x50</th>\n",
       "      <th>x51</th>\n",
       "      <th>x52</th>\n",
       "      <th>x53</th>\n",
       "      <th>x54</th>\n",
       "    </tr>\n",
       "  </thead>\n",
       "  <tbody>\n",
       "    <tr>\n",
       "      <th>0</th>\n",
       "      <td>634995</td>\n",
       "      <td>0</td>\n",
       "      <td>463</td>\n",
       "      <td>1</td>\n",
       "      <td>0.0</td>\n",
       "      <td>806.0</td>\n",
       "      <td>11.291045</td>\n",
       "      <td>1.0</td>\n",
       "      <td>70.495138</td>\n",
       "      <td>0.0</td>\n",
       "      <td>...</td>\n",
       "      <td>0</td>\n",
       "      <td>0</td>\n",
       "      <td>0</td>\n",
       "      <td>0</td>\n",
       "      <td>0</td>\n",
       "      <td>0</td>\n",
       "      <td>0</td>\n",
       "      <td>0</td>\n",
       "      <td>1</td>\n",
       "      <td>0</td>\n",
       "    </tr>\n",
       "    <tr>\n",
       "      <th>1</th>\n",
       "      <td>634995</td>\n",
       "      <td>0</td>\n",
       "      <td>463</td>\n",
       "      <td>1</td>\n",
       "      <td>0.0</td>\n",
       "      <td>806.0</td>\n",
       "      <td>11.291045</td>\n",
       "      <td>1.0</td>\n",
       "      <td>70.495138</td>\n",
       "      <td>0.0</td>\n",
       "      <td>...</td>\n",
       "      <td>0</td>\n",
       "      <td>0</td>\n",
       "      <td>0</td>\n",
       "      <td>0</td>\n",
       "      <td>0</td>\n",
       "      <td>0</td>\n",
       "      <td>0</td>\n",
       "      <td>1</td>\n",
       "      <td>0</td>\n",
       "      <td>0</td>\n",
       "    </tr>\n",
       "    <tr>\n",
       "      <th>2</th>\n",
       "      <td>634995</td>\n",
       "      <td>0</td>\n",
       "      <td>463</td>\n",
       "      <td>1</td>\n",
       "      <td>0.0</td>\n",
       "      <td>806.0</td>\n",
       "      <td>11.291045</td>\n",
       "      <td>1.0</td>\n",
       "      <td>70.495138</td>\n",
       "      <td>0.0</td>\n",
       "      <td>...</td>\n",
       "      <td>1</td>\n",
       "      <td>0</td>\n",
       "      <td>0</td>\n",
       "      <td>0</td>\n",
       "      <td>0</td>\n",
       "      <td>0</td>\n",
       "      <td>0</td>\n",
       "      <td>0</td>\n",
       "      <td>1</td>\n",
       "      <td>0</td>\n",
       "    </tr>\n",
       "    <tr>\n",
       "      <th>3</th>\n",
       "      <td>634995</td>\n",
       "      <td>0</td>\n",
       "      <td>463</td>\n",
       "      <td>1</td>\n",
       "      <td>0.0</td>\n",
       "      <td>806.0</td>\n",
       "      <td>11.291045</td>\n",
       "      <td>1.0</td>\n",
       "      <td>70.495138</td>\n",
       "      <td>0.0</td>\n",
       "      <td>...</td>\n",
       "      <td>1</td>\n",
       "      <td>0</td>\n",
       "      <td>0</td>\n",
       "      <td>1</td>\n",
       "      <td>0</td>\n",
       "      <td>0</td>\n",
       "      <td>0</td>\n",
       "      <td>0</td>\n",
       "      <td>0</td>\n",
       "      <td>0</td>\n",
       "    </tr>\n",
       "    <tr>\n",
       "      <th>4</th>\n",
       "      <td>634995</td>\n",
       "      <td>0</td>\n",
       "      <td>463</td>\n",
       "      <td>1</td>\n",
       "      <td>0.0</td>\n",
       "      <td>806.0</td>\n",
       "      <td>11.291045</td>\n",
       "      <td>1.0</td>\n",
       "      <td>70.495138</td>\n",
       "      <td>0.0</td>\n",
       "      <td>...</td>\n",
       "      <td>0</td>\n",
       "      <td>0</td>\n",
       "      <td>0</td>\n",
       "      <td>0</td>\n",
       "      <td>0</td>\n",
       "      <td>1</td>\n",
       "      <td>0</td>\n",
       "      <td>0</td>\n",
       "      <td>0</td>\n",
       "      <td>0</td>\n",
       "    </tr>\n",
       "  </tbody>\n",
       "</table>\n",
       "<p>5 rows × 54 columns</p>\n",
       "</div>"
      ],
      "text/plain": [
       "       x1  x2   x3  x4   x5     x6         x7   x8         x9  x10  ...  x45  \\\n",
       "0  634995   0  463   1  0.0  806.0  11.291045  1.0  70.495138  0.0  ...    0   \n",
       "1  634995   0  463   1  0.0  806.0  11.291045  1.0  70.495138  0.0  ...    0   \n",
       "2  634995   0  463   1  0.0  806.0  11.291045  1.0  70.495138  0.0  ...    1   \n",
       "3  634995   0  463   1  0.0  806.0  11.291045  1.0  70.495138  0.0  ...    1   \n",
       "4  634995   0  463   1  0.0  806.0  11.291045  1.0  70.495138  0.0  ...    0   \n",
       "\n",
       "   x46  x47  x48  x49  x50  x51  x52  x53  x54  \n",
       "0    0    0    0    0    0    0    0    1    0  \n",
       "1    0    0    0    0    0    0    1    0    0  \n",
       "2    0    0    0    0    0    0    0    1    0  \n",
       "3    0    0    1    0    0    0    0    0    0  \n",
       "4    0    0    0    0    1    0    0    0    0  \n",
       "\n",
       "[5 rows x 54 columns]"
      ]
     },
     "execution_count": 26,
     "metadata": {},
     "output_type": "execute_result"
    }
   ],
   "source": [
    "# printing some rows\n",
    "dataframe.head()"
   ]
  },
  {
   "cell_type": "code",
   "execution_count": 25,
   "metadata": {},
   "outputs": [
    {
     "data": {
      "text/html": [
       "<div>\n",
       "<style scoped>\n",
       "    .dataframe tbody tr th:only-of-type {\n",
       "        vertical-align: middle;\n",
       "    }\n",
       "\n",
       "    .dataframe tbody tr th {\n",
       "        vertical-align: top;\n",
       "    }\n",
       "\n",
       "    .dataframe thead th {\n",
       "        text-align: right;\n",
       "    }\n",
       "</style>\n",
       "<table border=\"1\" class=\"dataframe\">\n",
       "  <thead>\n",
       "    <tr style=\"text-align: right;\">\n",
       "      <th></th>\n",
       "      <th>x1</th>\n",
       "      <th>x2</th>\n",
       "      <th>x3</th>\n",
       "      <th>x4</th>\n",
       "      <th>x5</th>\n",
       "      <th>x6</th>\n",
       "      <th>x7</th>\n",
       "      <th>x8</th>\n",
       "      <th>x9</th>\n",
       "      <th>x10</th>\n",
       "      <th>...</th>\n",
       "      <th>x45</th>\n",
       "      <th>x46</th>\n",
       "      <th>x47</th>\n",
       "      <th>x48</th>\n",
       "      <th>x49</th>\n",
       "      <th>x50</th>\n",
       "      <th>x51</th>\n",
       "      <th>x52</th>\n",
       "      <th>x53</th>\n",
       "      <th>x54</th>\n",
       "    </tr>\n",
       "  </thead>\n",
       "  <tbody>\n",
       "    <tr>\n",
       "      <th>count</th>\n",
       "      <td>4.094900e+04</td>\n",
       "      <td>40949.000000</td>\n",
       "      <td>4.094900e+04</td>\n",
       "      <td>40949.000000</td>\n",
       "      <td>40949.000000</td>\n",
       "      <td>40949.000000</td>\n",
       "      <td>40949.000000</td>\n",
       "      <td>40949.000000</td>\n",
       "      <td>40949.000000</td>\n",
       "      <td>40949.000000</td>\n",
       "      <td>...</td>\n",
       "      <td>40949.000000</td>\n",
       "      <td>40949.000000</td>\n",
       "      <td>40949.000000</td>\n",
       "      <td>40949.000000</td>\n",
       "      <td>40949.000000</td>\n",
       "      <td>40949.000000</td>\n",
       "      <td>40949.000000</td>\n",
       "      <td>40949.000000</td>\n",
       "      <td>40949.000000</td>\n",
       "      <td>40949.000000</td>\n",
       "    </tr>\n",
       "    <tr>\n",
       "      <th>mean</th>\n",
       "      <td>1.313814e+06</td>\n",
       "      <td>4676.133752</td>\n",
       "      <td>4.480025e+04</td>\n",
       "      <td>24.254780</td>\n",
       "      <td>1.586241</td>\n",
       "      <td>443.333854</td>\n",
       "      <td>55.720384</td>\n",
       "      <td>35.645535</td>\n",
       "      <td>67.464151</td>\n",
       "      <td>0.219468</td>\n",
       "      <td>...</td>\n",
       "      <td>0.146157</td>\n",
       "      <td>0.136926</td>\n",
       "      <td>0.141640</td>\n",
       "      <td>0.132506</td>\n",
       "      <td>0.137635</td>\n",
       "      <td>0.148599</td>\n",
       "      <td>0.150846</td>\n",
       "      <td>0.143886</td>\n",
       "      <td>0.144888</td>\n",
       "      <td>7.322889</td>\n",
       "    </tr>\n",
       "    <tr>\n",
       "      <th>std</th>\n",
       "      <td>6.785752e+06</td>\n",
       "      <td>20593.184863</td>\n",
       "      <td>1.109338e+05</td>\n",
       "      <td>19.950583</td>\n",
       "      <td>20.753174</td>\n",
       "      <td>496.695198</td>\n",
       "      <td>86.933548</td>\n",
       "      <td>69.960232</td>\n",
       "      <td>81.568249</td>\n",
       "      <td>10.055146</td>\n",
       "      <td>...</td>\n",
       "      <td>0.353268</td>\n",
       "      <td>0.343774</td>\n",
       "      <td>0.348684</td>\n",
       "      <td>0.339045</td>\n",
       "      <td>0.344520</td>\n",
       "      <td>0.355698</td>\n",
       "      <td>0.357903</td>\n",
       "      <td>0.350979</td>\n",
       "      <td>0.351992</td>\n",
       "      <td>35.494550</td>\n",
       "    </tr>\n",
       "    <tr>\n",
       "      <th>min</th>\n",
       "      <td>3.600000e+01</td>\n",
       "      <td>0.000000</td>\n",
       "      <td>0.000000e+00</td>\n",
       "      <td>1.000000</td>\n",
       "      <td>0.000000</td>\n",
       "      <td>0.000000</td>\n",
       "      <td>0.000000</td>\n",
       "      <td>0.000000</td>\n",
       "      <td>0.000000</td>\n",
       "      <td>0.000000</td>\n",
       "      <td>...</td>\n",
       "      <td>0.000000</td>\n",
       "      <td>0.000000</td>\n",
       "      <td>0.000000</td>\n",
       "      <td>0.000000</td>\n",
       "      <td>0.000000</td>\n",
       "      <td>0.000000</td>\n",
       "      <td>0.000000</td>\n",
       "      <td>0.000000</td>\n",
       "      <td>0.000000</td>\n",
       "      <td>0.000000</td>\n",
       "    </tr>\n",
       "    <tr>\n",
       "      <th>25%</th>\n",
       "      <td>3.673400e+04</td>\n",
       "      <td>0.000000</td>\n",
       "      <td>6.980000e+02</td>\n",
       "      <td>9.000000</td>\n",
       "      <td>0.000000</td>\n",
       "      <td>45.000000</td>\n",
       "      <td>5.527273</td>\n",
       "      <td>2.000000</td>\n",
       "      <td>8.278756</td>\n",
       "      <td>0.000000</td>\n",
       "      <td>...</td>\n",
       "      <td>0.000000</td>\n",
       "      <td>0.000000</td>\n",
       "      <td>0.000000</td>\n",
       "      <td>0.000000</td>\n",
       "      <td>0.000000</td>\n",
       "      <td>0.000000</td>\n",
       "      <td>0.000000</td>\n",
       "      <td>0.000000</td>\n",
       "      <td>0.000000</td>\n",
       "      <td>0.000000</td>\n",
       "    </tr>\n",
       "    <tr>\n",
       "      <th>50%</th>\n",
       "      <td>2.929110e+05</td>\n",
       "      <td>0.000000</td>\n",
       "      <td>7.045000e+03</td>\n",
       "      <td>18.000000</td>\n",
       "      <td>0.000000</td>\n",
       "      <td>241.000000</td>\n",
       "      <td>23.374101</td>\n",
       "      <td>12.000000</td>\n",
       "      <td>35.069140</td>\n",
       "      <td>0.000000</td>\n",
       "      <td>...</td>\n",
       "      <td>0.000000</td>\n",
       "      <td>0.000000</td>\n",
       "      <td>0.000000</td>\n",
       "      <td>0.000000</td>\n",
       "      <td>0.000000</td>\n",
       "      <td>0.000000</td>\n",
       "      <td>0.000000</td>\n",
       "      <td>0.000000</td>\n",
       "      <td>0.000000</td>\n",
       "      <td>0.000000</td>\n",
       "    </tr>\n",
       "    <tr>\n",
       "      <th>75%</th>\n",
       "      <td>1.204214e+06</td>\n",
       "      <td>99.000000</td>\n",
       "      <td>5.026400e+04</td>\n",
       "      <td>32.000000</td>\n",
       "      <td>0.000000</td>\n",
       "      <td>717.000000</td>\n",
       "      <td>71.828829</td>\n",
       "      <td>42.000000</td>\n",
       "      <td>102.554954</td>\n",
       "      <td>0.000000</td>\n",
       "      <td>...</td>\n",
       "      <td>0.000000</td>\n",
       "      <td>0.000000</td>\n",
       "      <td>0.000000</td>\n",
       "      <td>0.000000</td>\n",
       "      <td>0.000000</td>\n",
       "      <td>0.000000</td>\n",
       "      <td>0.000000</td>\n",
       "      <td>0.000000</td>\n",
       "      <td>0.000000</td>\n",
       "      <td>3.000000</td>\n",
       "    </tr>\n",
       "    <tr>\n",
       "      <th>max</th>\n",
       "      <td>4.869723e+08</td>\n",
       "      <td>186370.000000</td>\n",
       "      <td>6.089942e+06</td>\n",
       "      <td>106.000000</td>\n",
       "      <td>2341.000000</td>\n",
       "      <td>2341.000000</td>\n",
       "      <td>2341.000000</td>\n",
       "      <td>2341.000000</td>\n",
       "      <td>731.394558</td>\n",
       "      <td>1923.000000</td>\n",
       "      <td>...</td>\n",
       "      <td>1.000000</td>\n",
       "      <td>1.000000</td>\n",
       "      <td>1.000000</td>\n",
       "      <td>1.000000</td>\n",
       "      <td>1.000000</td>\n",
       "      <td>1.000000</td>\n",
       "      <td>1.000000</td>\n",
       "      <td>1.000000</td>\n",
       "      <td>1.000000</td>\n",
       "      <td>1305.000000</td>\n",
       "    </tr>\n",
       "  </tbody>\n",
       "</table>\n",
       "<p>8 rows × 54 columns</p>\n",
       "</div>"
      ],
      "text/plain": [
       "                 x1             x2            x3            x4            x5  \\\n",
       "count  4.094900e+04   40949.000000  4.094900e+04  40949.000000  40949.000000   \n",
       "mean   1.313814e+06    4676.133752  4.480025e+04     24.254780      1.586241   \n",
       "std    6.785752e+06   20593.184863  1.109338e+05     19.950583     20.753174   \n",
       "min    3.600000e+01       0.000000  0.000000e+00      1.000000      0.000000   \n",
       "25%    3.673400e+04       0.000000  6.980000e+02      9.000000      0.000000   \n",
       "50%    2.929110e+05       0.000000  7.045000e+03     18.000000      0.000000   \n",
       "75%    1.204214e+06      99.000000  5.026400e+04     32.000000      0.000000   \n",
       "max    4.869723e+08  186370.000000  6.089942e+06    106.000000   2341.000000   \n",
       "\n",
       "                 x6            x7            x8            x9           x10  \\\n",
       "count  40949.000000  40949.000000  40949.000000  40949.000000  40949.000000   \n",
       "mean     443.333854     55.720384     35.645535     67.464151      0.219468   \n",
       "std      496.695198     86.933548     69.960232     81.568249     10.055146   \n",
       "min        0.000000      0.000000      0.000000      0.000000      0.000000   \n",
       "25%       45.000000      5.527273      2.000000      8.278756      0.000000   \n",
       "50%      241.000000     23.374101     12.000000     35.069140      0.000000   \n",
       "75%      717.000000     71.828829     42.000000    102.554954      0.000000   \n",
       "max     2341.000000   2341.000000   2341.000000    731.394558   1923.000000   \n",
       "\n",
       "       ...           x45           x46           x47           x48  \\\n",
       "count  ...  40949.000000  40949.000000  40949.000000  40949.000000   \n",
       "mean   ...      0.146157      0.136926      0.141640      0.132506   \n",
       "std    ...      0.353268      0.343774      0.348684      0.339045   \n",
       "min    ...      0.000000      0.000000      0.000000      0.000000   \n",
       "25%    ...      0.000000      0.000000      0.000000      0.000000   \n",
       "50%    ...      0.000000      0.000000      0.000000      0.000000   \n",
       "75%    ...      0.000000      0.000000      0.000000      0.000000   \n",
       "max    ...      1.000000      1.000000      1.000000      1.000000   \n",
       "\n",
       "                x49           x50           x51           x52           x53  \\\n",
       "count  40949.000000  40949.000000  40949.000000  40949.000000  40949.000000   \n",
       "mean       0.137635      0.148599      0.150846      0.143886      0.144888   \n",
       "std        0.344520      0.355698      0.357903      0.350979      0.351992   \n",
       "min        0.000000      0.000000      0.000000      0.000000      0.000000   \n",
       "25%        0.000000      0.000000      0.000000      0.000000      0.000000   \n",
       "50%        0.000000      0.000000      0.000000      0.000000      0.000000   \n",
       "75%        0.000000      0.000000      0.000000      0.000000      0.000000   \n",
       "max        1.000000      1.000000      1.000000      1.000000      1.000000   \n",
       "\n",
       "                x54  \n",
       "count  40949.000000  \n",
       "mean       7.322889  \n",
       "std       35.494550  \n",
       "min        0.000000  \n",
       "25%        0.000000  \n",
       "50%        0.000000  \n",
       "75%        3.000000  \n",
       "max     1305.000000  \n",
       "\n",
       "[8 rows x 54 columns]"
      ]
     },
     "execution_count": 25,
     "metadata": {},
     "output_type": "execute_result"
    }
   ],
   "source": [
    "# Some basic stats about the Dataset\n",
    "dataframe.describe()"
   ]
  },
  {
   "cell_type": "markdown",
   "metadata": {},
   "source": [
    "### X1 Featrue:\n",
    "    Page Popularity/likes\n",
    "    Decimal Encoding\n",
    "    Page feature\n",
    "    Defines the popularity or support for the source of the document."
   ]
  },
  {
   "cell_type": "code",
   "execution_count": 28,
   "metadata": {},
   "outputs": [
    {
     "data": {
      "text/plain": [
       "<AxesSubplot:ylabel='Density'>"
      ]
     },
     "execution_count": 28,
     "metadata": {},
     "output_type": "execute_result"
    },
    {
     "data": {
      "image/png": "[encoded data removed]",
      "text/plain": [
       "<Figure size 720x504 with 1 Axes>"
      ]
     },
     "metadata": {
      "needs_background": "light"
     },
     "output_type": "display_data"
    }
   ],
   "source": [
    "plt.figure(figsize= (10,7))\n",
    "dataframe['x1'].value_counts().plot(kind= 'kde')"
   ]
  },
  {
   "cell_type": "markdown",
   "metadata": {},
   "source": [
    "### \n",
    "    Density plot show that most of the count fall between 1 to 100, it also indicate that many pages have the same popularity as other.\n",
    "    so we are going to create new dataframe from x1 column, it will be very helful for data analysis."
   ]
  },
  {
   "cell_type": "code",
   "execution_count": 32,
   "metadata": {},
   "outputs": [
    {
     "data": {
      "text/plain": [
       "36"
      ]
     },
     "execution_count": 32,
     "metadata": {},
     "output_type": "execute_result"
    }
   ],
   "source": [
    "dataframe['x1'].min()"
   ]
  },
  {
   "cell_type": "code",
   "execution_count": 30,
   "metadata": {},
   "outputs": [
    {
     "data": {
      "text/html": [
       "<div>\n",
       "<style scoped>\n",
       "    .dataframe tbody tr th:only-of-type {\n",
       "        vertical-align: middle;\n",
       "    }\n",
       "\n",
       "    .dataframe tbody tr th {\n",
       "        vertical-align: top;\n",
       "    }\n",
       "\n",
       "    .dataframe thead th {\n",
       "        text-align: right;\n",
       "    }\n",
       "</style>\n",
       "<table border=\"1\" class=\"dataframe\">\n",
       "  <thead>\n",
       "    <tr style=\"text-align: right;\">\n",
       "      <th></th>\n",
       "      <th>x1</th>\n",
       "    </tr>\n",
       "  </thead>\n",
       "  <tbody>\n",
       "    <tr>\n",
       "      <th>25879</th>\n",
       "      <td>246</td>\n",
       "    </tr>\n",
       "    <tr>\n",
       "      <th>595191</th>\n",
       "      <td>245</td>\n",
       "    </tr>\n",
       "    <tr>\n",
       "      <th>309914</th>\n",
       "      <td>244</td>\n",
       "    </tr>\n",
       "    <tr>\n",
       "      <th>3002026</th>\n",
       "      <td>244</td>\n",
       "    </tr>\n",
       "    <tr>\n",
       "      <th>965964</th>\n",
       "      <td>244</td>\n",
       "    </tr>\n",
       "    <tr>\n",
       "      <th>416948</th>\n",
       "      <td>244</td>\n",
       "    </tr>\n",
       "    <tr>\n",
       "      <th>668834</th>\n",
       "      <td>241</td>\n",
       "    </tr>\n",
       "    <tr>\n",
       "      <th>367390</th>\n",
       "      <td>239</td>\n",
       "    </tr>\n",
       "    <tr>\n",
       "      <th>98168</th>\n",
       "      <td>239</td>\n",
       "    </tr>\n",
       "    <tr>\n",
       "      <th>2470711</th>\n",
       "      <td>238</td>\n",
       "    </tr>\n",
       "  </tbody>\n",
       "</table>\n",
       "</div>"
      ],
      "text/plain": [
       "          x1\n",
       "25879    246\n",
       "595191   245\n",
       "309914   244\n",
       "3002026  244\n",
       "965964   244\n",
       "416948   244\n",
       "668834   241\n",
       "367390   239\n",
       "98168    239\n",
       "2470711  238"
      ]
     },
     "execution_count": 30,
     "metadata": {},
     "output_type": "execute_result"
    }
   ],
   "source": [
    "x1=pd.DataFrame(dataframe['x1'].value_counts())\n",
    "x1.head(10)"
   ]
  },
  {
   "cell_type": "markdown",
   "metadata": {},
   "source": [
    "### X54(Target ) : Label\n",
    "    Target Variable\n",
    "    Decimal\n",
    "    Target\n",
    "    The no of comments in next H hrs(H is given in Feature no 39).\n",
    "\n"
   ]
  },
  {
   "cell_type": "code",
   "execution_count": 41,
   "metadata": {},
   "outputs": [
    {
     "data": {
      "text/html": [
       "<div>\n",
       "<style scoped>\n",
       "    .dataframe tbody tr th:only-of-type {\n",
       "        vertical-align: middle;\n",
       "    }\n",
       "\n",
       "    .dataframe tbody tr th {\n",
       "        vertical-align: top;\n",
       "    }\n",
       "\n",
       "    .dataframe thead th {\n",
       "        text-align: right;\n",
       "    }\n",
       "</style>\n",
       "<table border=\"1\" class=\"dataframe\">\n",
       "  <thead>\n",
       "    <tr style=\"text-align: right;\">\n",
       "      <th></th>\n",
       "      <th>x54</th>\n",
       "      <th>Percentage</th>\n",
       "    </tr>\n",
       "  </thead>\n",
       "  <tbody>\n",
       "    <tr>\n",
       "      <th>0</th>\n",
       "      <td>22579</td>\n",
       "      <td>55.139320</td>\n",
       "    </tr>\n",
       "    <tr>\n",
       "      <th>1</th>\n",
       "      <td>5194</td>\n",
       "      <td>12.684070</td>\n",
       "    </tr>\n",
       "    <tr>\n",
       "      <th>2</th>\n",
       "      <td>2624</td>\n",
       "      <td>6.407971</td>\n",
       "    </tr>\n",
       "    <tr>\n",
       "      <th>3</th>\n",
       "      <td>1583</td>\n",
       "      <td>3.865784</td>\n",
       "    </tr>\n",
       "    <tr>\n",
       "      <th>4</th>\n",
       "      <td>1171</td>\n",
       "      <td>2.859655</td>\n",
       "    </tr>\n",
       "    <tr>\n",
       "      <th>5</th>\n",
       "      <td>836</td>\n",
       "      <td>2.041564</td>\n",
       "    </tr>\n",
       "    <tr>\n",
       "      <th>6</th>\n",
       "      <td>636</td>\n",
       "      <td>1.553151</td>\n",
       "    </tr>\n",
       "    <tr>\n",
       "      <th>7</th>\n",
       "      <td>564</td>\n",
       "      <td>1.377323</td>\n",
       "    </tr>\n",
       "    <tr>\n",
       "      <th>8</th>\n",
       "      <td>414</td>\n",
       "      <td>1.011014</td>\n",
       "    </tr>\n",
       "    <tr>\n",
       "      <th>9</th>\n",
       "      <td>374</td>\n",
       "      <td>0.913331</td>\n",
       "    </tr>\n",
       "  </tbody>\n",
       "</table>\n",
       "</div>"
      ],
      "text/plain": [
       "     x54  Percentage\n",
       "0  22579   55.139320\n",
       "1   5194   12.684070\n",
       "2   2624    6.407971\n",
       "3   1583    3.865784\n",
       "4   1171    2.859655\n",
       "5    836    2.041564\n",
       "6    636    1.553151\n",
       "7    564    1.377323\n",
       "8    414    1.011014\n",
       "9    374    0.913331"
      ]
     },
     "execution_count": 41,
     "metadata": {},
     "output_type": "execute_result"
    }
   ],
   "source": [
    "# Creating a Dataframe from the x54 variable\n",
    "x54= pd.DataFrame(dataframe['x54'].value_counts())\n",
    "rows= 40949 #total no of rows storing in rows variable\n",
    "x54['Percentage']=x54[:]*100/rows\n",
    "x54.head(10)"
   ]
  },
  {
   "cell_type": "markdown",
   "metadata": {},
   "source": [
    "### \n",
    "    55% of pages have zero comment in next hour and more than 95% pages did not receive any comment in next hour. This means pages have popularity does not mean they receive comment usually.\n",
    "    Let's see popularity of those pages who receive no comment in next hour."
   ]
  },
  {
   "cell_type": "code",
   "execution_count": 45,
   "metadata": {},
   "outputs": [
    {
     "name": "stdout",
     "output_type": "stream",
     "text": [
      "Average Popularity:  1313813.7475396225\n",
      " Average Popularity when no comments:  845723.7419283405\n"
     ]
    }
   ],
   "source": [
    "print('Average Popularity: ', dataframe['x1'].mean() )\n",
    "print(' Average Popularity when no comments: ',dataframe.loc[(dataframe['x54']==0), 'x1'].mean())"
   ]
  },
  {
   "cell_type": "markdown",
   "metadata": {},
   "source": [
    "### \n",
    "    Yeah we can see that pages who did not receive comment in next hour have less popularity in comparision to whom who recive comment in next hour.\n",
    "    Now, let's see popularity who receive more than 10 comments in next hour:"
   ]
  },
  {
   "cell_type": "code",
   "execution_count": 46,
   "metadata": {},
   "outputs": [
    {
     "data": {
      "text/plain": [
       "2969972.5026783803"
      ]
     },
     "execution_count": 46,
     "metadata": {},
     "output_type": "execute_result"
    }
   ],
   "source": [
    "dataframe.loc[dataframe['x54']>10, 'x1'].mean()"
   ]
  },
  {
   "cell_type": "markdown",
   "metadata": {},
   "source": [
    "### \n",
    "    Pages who receive more than 10 comments in next hour have 3 times popularity of who receive no comments in next hour."
   ]
  },
  {
   "cell_type": "markdown",
   "metadata": {},
   "source": [
    "### X2 Feature:\n",
    "    Page Checkinsâ€™s\n",
    "    Decimal Encoding\n",
    "    Page feature\n",
    "    Describes how many individuals so far visited this place. This feature is only associated with the places eg:some institution, place, theater etc."
   ]
  },
  {
   "cell_type": "code",
   "execution_count": 53,
   "metadata": {},
   "outputs": [
    {
     "data": {
      "text/plain": [
       "<seaborn.axisgrid.FacetGrid at 0x7f9cb338c700>"
      ]
     },
     "execution_count": 53,
     "metadata": {},
     "output_type": "execute_result"
    },
    {
     "data": {
      "image/png": "[encoded data removed]",
      "text/plain": [
       "<Figure size 360x360 with 1 Axes>"
      ]
     },
     "metadata": {
      "needs_background": "light"
     },
     "output_type": "display_data"
    }
   ],
   "source": [
    "sns.set_context(\"talk\")\n",
    "sns.displot(data= dataframe, x='x2')"
   ]
  },
  {
   "cell_type": "code",
   "execution_count": null,
   "metadata": {},
   "outputs": [],
   "source": [
    "for col in ['x40', 'x41', 'x42','x43', '44', '45', '46']:\n",
    "    "
   ]
  },
  {
   "cell_type": "code",
   "execution_count": 50,
   "metadata": {},
   "outputs": [
    {
     "data": {
      "text/plain": [
       "<seaborn.axisgrid.FacetGrid at 0x7f9cb2718e20>"
      ]
     },
     "execution_count": 50,
     "metadata": {},
     "output_type": "execute_result"
    },
    {
     "data": {
      "image/png": "[encoded data removed]",
      "text/plain": [
       "<Figure size 360x360 with 1 Axes>"
      ]
     },
     "metadata": {
      "needs_background": "light"
     },
     "output_type": "display_data"
    }
   ],
   "source": [
    "sns.catplot(data= dataframe, x='x4', y='x54')"
   ]
  },
  {
   "cell_type": "code",
   "execution_count": 51,
   "metadata": {},
   "outputs": [
    {
     "data": {
      "text/plain": [
       "9     7494\n",
       "24    4511\n",
       "18    4301\n",
       "36    2387\n",
       "16    1890\n",
       "      ... \n",
       "62      16\n",
       "63       4\n",
       "58       2\n",
       "93       1\n",
       "83       1\n",
       "Name: x4, Length: 81, dtype: int64"
      ]
     },
     "execution_count": 51,
     "metadata": {},
     "output_type": "execute_result"
    }
   ],
   "source": [
    "dataframe['x4'].value_counts()"
   ]
  },
  {
   "cell_type": "code",
   "execution_count": 49,
   "metadata": {},
   "outputs": [
    {
     "data": {
      "text/plain": [
       "<matplotlib.collections.PathCollection at 0x7f9cb34e73d0>"
      ]
     },
     "execution_count": 49,
     "metadata": {},
     "output_type": "execute_result"
    },
    {
     "data": {
      "image/png": "[encoded data removed]",
      "text/plain": [
       "<Figure size 432x288 with 1 Axes>"
      ]
     },
     "metadata": {
      "needs_background": "light"
     },
     "output_type": "display_data"
    }
   ],
   "source": [
    "plt.scatter(dataframe['x1'], dataframe['x54'])"
   ]
  },
  {
   "cell_type": "code",
   "execution_count": 47,
   "metadata": {},
   "outputs": [
    {
     "data": {
      "text/plain": [
       "0      25486\n",
       "1       1335\n",
       "148      489\n",
       "11       457\n",
       "4        387\n",
       "       ...  \n",
       "249        2\n",
       "268        2\n",
       "50         2\n",
       "228        1\n",
       "94         1\n",
       "Name: x2, Length: 173, dtype: int64"
      ]
     },
     "execution_count": 47,
     "metadata": {},
     "output_type": "execute_result"
    }
   ],
   "source": [
    "dataframe['x2'].value_counts()"
   ]
  },
  {
   "cell_type": "code",
   "execution_count": 15,
   "metadata": {},
   "outputs": [
    {
     "data": {
      "text/plain": [
       "<AxesSubplot:>"
      ]
     },
     "execution_count": 15,
     "metadata": {},
     "output_type": "execute_result"
    },
    {
     "data": {
      "image/png": "[encoded data removed]",
      "text/plain": [
       "<Figure size 432x288 with 1 Axes>"
      ]
     },
     "metadata": {
      "needs_background": "light"
     },
     "output_type": "display_data"
    }
   ],
   "source": [
    "dataframe['x1'].value_counts().plot(kind='bar')"
   ]
  },
  {
   "cell_type": "code",
   "execution_count": 13,
   "metadata": {},
   "outputs": [
    {
     "data": {
      "text/plain": [
       "0      22579\n",
       "1       5194\n",
       "2       2624\n",
       "3       1583\n",
       "4       1171\n",
       "       ...  \n",
       "209        1\n",
       "145        1\n",
       "720        1\n",
       "496        1\n",
       "336        1\n",
       "Name: x54, Length: 361, dtype: int64"
      ]
     },
     "execution_count": 13,
     "metadata": {},
     "output_type": "execute_result"
    }
   ],
   "source": [
    "dataframe['x54'].value_counts()"
   ]
  },
  {
   "cell_type": "code",
   "execution_count": 14,
   "metadata": {},
   "outputs": [
    {
     "data": {
      "text/plain": [
       "24    40171\n",
       "1        49\n",
       "2        43\n",
       "19       40\n",
       "3        40\n",
       "17       39\n",
       "9        37\n",
       "23       36\n",
       "22       35\n",
       "6        35\n",
       "11       34\n",
       "20       34\n",
       "10       33\n",
       "15       33\n",
       "16       32\n",
       "12       32\n",
       "21       30\n",
       "4        30\n",
       "14       29\n",
       "5        29\n",
       "18       29\n",
       "13       28\n",
       "8        27\n",
       "7        24\n",
       "Name: x39, dtype: int64"
      ]
     },
     "execution_count": 14,
     "metadata": {},
     "output_type": "execute_result"
    }
   ],
   "source": [
    "dataframe['x39'].value_counts()"
   ]
  },
  {
   "cell_type": "code",
   "execution_count": null,
   "metadata": {},
   "outputs": [],
   "source": []
  }
 ],
 "metadata": {
  "kernelspec": {
   "display_name": "Python 3",
   "language": "python",
   "name": "python3"
  },
  "language_info": {
   "codemirror_mode": {
    "name": "ipython",
    "version": 3
   },
   "file_extension": ".py",
   "mimetype": "text/x-python",
   "name": "python",
   "nbconvert_exporter": "python",
   "pygments_lexer": "ipython3",
   "version": "3.8.5"
  }
 },
 "nbformat": 4,
 "nbformat_minor": 4
}
